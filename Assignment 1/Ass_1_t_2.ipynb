{
 "cells": [
  {
   "cell_type": "markdown",
   "id": "4cd7cce2-bb2f-4426-9959-f5b634a569fe",
   "metadata": {},
   "source": [
    "# Task2: Comparison of normalization methods for classification on Image dataset 2\n",
    "- Model: MLFFNN with 2 hidden layers and tanh activation function\n",
    "- Loss function: Cross-entropy\n",
    "- Mode of learning: Mini-batch mode\n",
    "- Stopping criterion: Change in average error below a threshold\n",
    "- Weight update rule: AdaM\n",
    "- Normalization method:\n",
    "    1. No normalization, \n",
    "    2. Batch normalization with post-activation normalization\n",
    "- Use the same value of learning rate parameter\n",
    "- Use the same initial random values of weights\n",
    "- For each normalization method, report should include the following:\n",
    "    1. Plot of average error on training data vs Epoch,\n",
    "    2. Confusion matrices for training data and test data\n",
    "- Compare number of epochs taken for convergence for normalization methods"
   ]
  },
  {
   "cell_type": "code",
   "execution_count": 16,
   "id": "1a6ccd9d-e230-4709-8f6e-500c98fd0abe",
   "metadata": {},
   "outputs": [],
   "source": [
    "import pandas as pd\n",
    "import numpy as np\n",
    "import matplotlib.pyplot as plt\n",
    "%matplotlib inline\n",
    "import torch\n",
    "import torch.nn as nn\n",
    "import torch.nn.functional as F\n",
    "from torch.utils.data import DataLoader, TensorDataset\n",
    "from sklearn.metrics import accuracy_score"
   ]
  },
  {
   "cell_type": "code",
   "execution_count": 17,
   "id": "f85ea4b0-96cb-4fcf-bf50-7043d3d3418b",
   "metadata": {},
   "outputs": [],
   "source": [
    "# Get Data\n",
    "train_data = pd.read_csv(\"task 2/train_data.csv\", names = [\"feature_\" + str(i) for i in range(1, 37)])\n",
    "train_label = pd.read_csv(\"task 2/train_label.csv\", names = [\"label\"])\n",
    "\n",
    "val_data = pd.read_csv(\"task 2/val_data.csv\", names = [\"feature_\" + str(i) for i in range(1, 37)])\n",
    "val_label = pd.read_csv(\"task 2/val_label.csv\", names = [\"label\"])\n",
    "\n",
    "test_data = pd.read_csv(\"task 2/test_data.csv\", names = [\"feature_\" + str(i) for i in range(1, 37)])\n",
    "test_label = pd.read_csv(\"task 2/test_label.csv\", names = [\"label\"])"
   ]
  },
  {
   "cell_type": "code",
   "execution_count": 18,
   "id": "bb953fbb-3b84-4569-a58f-8d579e6d43cb",
   "metadata": {},
   "outputs": [],
   "source": [
    "# Prepare data in desirable format\n",
    "# Since we need to use mini batch training we can use Dataloader class to create batches stored in DataLoader Object.\n",
    "X_train = torch.FloatTensor(train_data.values)\n",
    "Y_train = torch.LongTensor(train_label.values)\n",
    "train = TensorDataset(X_train, Y_train)\n",
    "\n",
    "X_val = torch.FloatTensor(val_data.values)\n",
    "Y_val = torch.LongTensor(val_label.values)\n",
    "val = TensorDataset(X_val, Y_val)\n",
    "\n",
    "X_test = torch.FloatTensor(test_data.values)\n",
    "Y_test = torch.LongTensor(test_label.values)\n",
    "test = TensorDataset(X_test, Y_test)"
   ]
  },
  {
   "cell_type": "code",
   "execution_count": 19,
   "id": "819feeef-e604-4745-8a61-da1272962251",
   "metadata": {},
   "outputs": [],
   "source": [
    "# Create dataloaders\n",
    "train_dataloader = DataLoader(train, batch_size = 16, shuffle = True)\n",
    "val_dataloader = DataLoader(val, batch_size = 16, shuffle = False)\n",
    "test_dataloader = DataLoader(test, batch_size = 16, shuffle = False)"
   ]
  },
  {
   "cell_type": "code",
   "execution_count": 20,
   "id": "5dfc0093-ca71-49da-bd19-182d42e8469d",
   "metadata": {},
   "outputs": [],
   "source": [
    "# Create Model with 2 hidden layers\n",
    "class Model(nn.Module):\n",
    "    def __init__(self, input_size, hidden_size, output_size, batchnorm = False):\n",
    "        super().__init__() ## This is called inheritance i.e. child can call parent\n",
    "        self.batchnorm = batchnorm\n",
    "        self.i2h = nn.Linear(input_size, hidden_size)\n",
    "        self.h2h = nn.Linear(hidden_size, hidden_size)\n",
    "        self.h2o = nn.Linear(hidden_size, output_size)\n",
    "        self.logSoftmax = nn.LogSoftmax()\n",
    "        \n",
    "        if batchnorm:\n",
    "            self.bn1 = nn.BatchNorm1d(hidden_size)\n",
    "            self.bn2 = nn.BatchNorm1d(hidden_size)\n",
    "    \n",
    "    def forward(self, x):\n",
    "        x = self.i2h(x)\n",
    "        if self.batchnorm:\n",
    "            x = self.bn1(x)\n",
    "        # BatchNorm normalizes the output of the linear layer, ensuring the activations are within a stable range, \n",
    "        # which can help with training stability and convergence\n",
    "        x = F.tanh(x)\n",
    "        \n",
    "        x = self.h2h(x)\n",
    "        if self.batchnorm:\n",
    "            x = self.bn2(x)\n",
    "        x = F.tanh(x)\n",
    "        \n",
    "        x = self.logSoftmax(self.h2o(x))\n",
    "        return x"
   ]
  },
  {
   "cell_type": "code",
   "execution_count": 21,
   "id": "56cae96e-dce8-425c-9d34-3845c53254d4",
   "metadata": {},
   "outputs": [
    {
     "name": "stderr",
     "output_type": "stream",
     "text": [
      "/home/btech/mm20b007/.local/lib/python3.9/site-packages/torch/nn/modules/module.py:1736: UserWarning: Implicit dimension choice for log_softmax has been deprecated. Change the call to include dim=X as an argument.\n",
      "  return self._call_impl(*args, **kwargs)\n"
     ]
    },
    {
     "name": "stdout",
     "output_type": "stream",
     "text": [
      "[Batch normalization = False] Epoch 5: Training Loss = 1.3444, Validation Loss = 1.3293\n",
      "[Batch normalization = False] Early stopping at epoch 7: No improvement in validation loss for 5 epochs.\n"
     ]
    },
    {
     "name": "stderr",
     "output_type": "stream",
     "text": [
      "/home/btech/mm20b007/.local/lib/python3.9/site-packages/torch/nn/modules/module.py:1736: UserWarning: Implicit dimension choice for log_softmax has been deprecated. Change the call to include dim=X as an argument.\n",
      "  return self._call_impl(*args, **kwargs)\n"
     ]
    },
    {
     "name": "stdout",
     "output_type": "stream",
     "text": [
      "[Batch normalization = True] Epoch 5: Training Loss = 1.3003, Validation Loss = 1.3401\n",
      "[Batch normalization = True] Early stopping at epoch 6: No improvement in validation loss for 5 epochs.\n"
     ]
    }
   ],
   "source": [
    "# Seed\n",
    "torch.manual_seed(0)\n",
    "\n",
    "# Fixed variables\n",
    "BatchNormalization = [False, True]\n",
    "Learning_rate = 0.01\n",
    "\n",
    "Training_Loss = {}\n",
    "Validation_Loss = {}\n",
    "Test_accuracy = {}\n",
    "Convergence_epoch = {}\n",
    "\n",
    "patience = 5  # Number of epochs to wait for improvement\n",
    "threshold = 1e-6  # Minimum change in loss to continue\n",
    "\n",
    "for batchnorm in BatchNormalization:\n",
    "    model = Model(36, 18, 5, batchnorm)\n",
    "    loss_criteria = nn.CrossEntropyLoss()\n",
    "    optimizer = torch.optim.Adam(model.parameters(), lr = Learning_rate)\n",
    "    epochs = 20\n",
    "    \n",
    "    train_loss = []\n",
    "    val_loss = []\n",
    "    \n",
    "    # Initialize variables for stopping criteria\n",
    "    best_val_loss = float(\"inf\")\n",
    "    no_improve_epochs = 0  # Counter for non-improvement epochs\n",
    "    \n",
    "    for e in range(1, epochs+1):\n",
    "        model.train()\n",
    "        epoch_train_loss = 0\n",
    "        for data, label in iter(train_dataloader):\n",
    "            y_train_pred = model.forward(data)\n",
    "            loss = loss_criteria(y_train_pred, label.squeeze(dim=1))\n",
    "            epoch_train_loss += loss.item()\n",
    "            \n",
    "            optimizer.zero_grad()\n",
    "            loss.backward()\n",
    "            optimizer.step()\n",
    "        \n",
    "        epoch_train_loss /= len(train_dataloader)\n",
    "        train_loss.append(epoch_train_loss)\n",
    "        \n",
    "        model.eval()\n",
    "        epoch_val_loss = 0\n",
    "        for data, label in iter(val_dataloader):\n",
    "            with torch.no_grad():\n",
    "                y_val_pred = model.forward(data)\n",
    "                loss_val = loss_criteria(y_val_pred, label.squeeze(dim=1))\n",
    "                epoch_val_loss += loss_val.item()\n",
    "        \n",
    "        epoch_val_loss /= len(val_dataloader)\n",
    "        val_loss.append(epoch_val_loss)\n",
    "                \n",
    "        if e % 5 == 0:\n",
    "            print(f\"[Batch normalization = {batchnorm}] Epoch {e}: Training Loss = {epoch_train_loss:.4f}, Validation Loss = {epoch_val_loss:.4f}\")\n",
    "        \n",
    "        if loss_val.item() < best_val_loss - threshold:\n",
    "            best_val_loss = loss_val.item()\n",
    "            no_improve_epochs = 0\n",
    "        else:\n",
    "            no_improve_epochs += 1\n",
    "        \n",
    "        if no_improve_epochs >= patience:\n",
    "            Convergence_epoch[str(batchnorm)] = e\n",
    "            print(f\"[Batch normalization = {batchnorm}] Early stopping at epoch {e}: No improvement in validation loss for {patience} epochs.\")\n",
    "            break\n",
    "    \n",
    "    model.eval()\n",
    "    with torch.no_grad():\n",
    "        Y_test_pred = model.forward(X_test).argmax(dim=1)\n",
    "        accuracy = accuracy_score(Y_test_pred.numpy(), Y_test.squeeze(dim=1).numpy())\n",
    "        Test_accuracy[str(batchnorm)] = accuracy\n",
    "    \n",
    "    Training_Loss[str(batchnorm)] = train_loss\n",
    "    Validation_Loss[str(batchnorm)] = val_loss"
   ]
  },
  {
   "cell_type": "code",
   "execution_count": 22,
   "id": "743dbdb1-334e-4e52-8489-bdbbc84e9581",
   "metadata": {},
   "outputs": [
    {
     "data": {
      "image/png": "[encoded data removed]",
      "text/plain": [
       "<Figure size 1000x600 with 1 Axes>"
      ]
     },
     "metadata": {},
     "output_type": "display_data"
    },
    {
     "name": "stdout",
     "output_type": "stream",
     "text": [
      "Batch Normalization False converged in 7 epochs.\n",
      "Batch Normalization True converged in 6 epochs.\n",
      "The test accuracy for batch normalization False = 0.44.\n",
      "The test accuracy for batch normalization True = 0.474.\n"
     ]
    }
   ],
   "source": [
    "# (a) Combined Plot for All Optimizers\n",
    "plt.figure(figsize=(10, 6))\n",
    "for name, losses in Training_Loss.items():\n",
    "    plt.plot(range(1, len(losses) + 1), losses, label=name)\n",
    "\n",
    "plt.xlabel(\"Epoch\")\n",
    "plt.ylabel(\"Average Training Error\")\n",
    "plt.title(\"Average Training Error vs. Epoch (Batch Normalization)\")\n",
    "plt.legend()\n",
    "plt.show()\n",
    "\n",
    "# Compare convergence epochs\n",
    "for name, epoch in Convergence_epoch.items():\n",
    "    print(f\"Batch Normalization {name} converged in {epoch} epochs.\")\n",
    "    \n",
    "# Compare accuracy\n",
    "for name, accuracy in Test_accuracy.items():\n",
    "    print(f\"The test accuracy for batch normalization {name} = {accuracy}.\")"
   ]
  },
  {
   "cell_type": "code",
   "execution_count": null,
   "id": "ee003e5d-872c-4fe2-87d6-71dff7d20507",
   "metadata": {},
   "outputs": [],
   "source": []
  }
 ],
 "metadata": {
  "kernelspec": {
   "display_name": "Python 3 (ipykernel)",
   "language": "python",
   "name": "python3"
  },
  "language_info": {
   "codemirror_mode": {
    "name": "ipython",
    "version": 3
   },
   "file_extension": ".py",
   "mimetype": "text/x-python",
   "name": "python",
   "nbconvert_exporter": "python",
   "pygments_lexer": "ipython3",
   "version": "3.9.2"
  }
 },
 "nbformat": 4,
 "nbformat_minor": 5
}
